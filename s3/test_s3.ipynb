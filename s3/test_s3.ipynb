{
 "cells": [
  {
   "cell_type": "code",
   "execution_count": 5,
   "id": "3f291629-0cc7-4d7d-bb2b-a89cc7706edf",
   "metadata": {},
   "outputs": [],
   "source": [
    "import pandas as pd"
   ]
  },
  {
   "cell_type": "code",
   "execution_count": 21,
   "id": "5a527285-016c-4a51-9c4f-ac716a3fdc05",
   "metadata": {},
   "outputs": [
    {
     "name": "stdout",
     "output_type": "stream",
     "text": [
      "     Order ID  Amount  Profit  Quantity     Category      Sub-Category  \n",
      "0     B-25681    1096     658         7  Electronics  Electronic Games   \n",
      "1     B-26055    5729      64        14    Furniture            Chairs   \n",
      "2     B-25955    2927     146         8    Furniture         Bookcases   \n",
      "3     B-26093    2847     712         8  Electronics          Printers   \n",
      "4     B-25602    2617    1151         4  Electronics            Phones   \n",
      "...       ...     ...     ...       ...          ...               ...   \n",
      "1495  B-25700       7      -3         2     Clothing       Hankerchief   \n",
      "1496  B-25757    3151     -35         7     Clothing          Trousers   \n",
      "1497  B-25973    4141    1698        13  Electronics          Printers   \n",
      "1498  B-25698       7      -2         1     Clothing       Hankerchief   \n",
      "1499  B-25993    4363     305         5    Furniture            Tables   \n",
      "\n",
      "      PaymentMode  \n",
      "0             COD  \n",
      "1             EMI  \n",
      "2             EMI  \n",
      "3     Credit Card  \n",
      "4     Credit Card  \n",
      "...           ...  \n",
      "1495          COD  \n",
      "1496          EMI  \n",
      "1497          COD  \n",
      "1498          COD  \n",
      "1499          EMI  \n",
      "\n",
      "[1500 rows x 7 columns]\n"
     ]
    }
   ],
   "source": [
    "df = pd.read_csv('Details.csv')\n",
    "df.dropna(inplace=True)\n",
    "print(df)"
   ]
  },
  {
   "cell_type": "code",
   "execution_count": 29,
   "id": "d4af8869-01fb-40fe-912a-a3ad6c0181a1",
   "metadata": {},
   "outputs": [],
   "source": [
    "import boto3\n"
   ]
  },
  {
   "cell_type": "code",
   "execution_count": null,
   "id": "a9889012-0473-41a4-8d15-ba64746a8ada",
   "metadata": {},
   "outputs": [],
   "source": [
    "\n",
    "\n",
    "# Initialize an S3 client\n",
    "import boto3\n",
    "\n",
    "# Set up the S3 client with the new user's credentials\n",
    "s3 = boto3.client(\n",
    "    's3',\n",
    "    aws_access_key_id='<your-aws-access-key-id>',\n",
    "    aws_secret_access_key='<your-aws-secret-access-key>',\n",
    "    region_name='ap-south-1'  # or the region your resources are in\n",
    ")\n",
    "\n",
    "\n",
    "# Define your bucket name\n",
    "bucket_name = '<your-bucket-name>'\n",
    "\n",
    "# List all objects in the bucket\n",
    "response = s3.list_objects_v2(Bucket=bucket_name)\n",
    "if 'Contents' in response:\n",
    "    for obj in response['Contents']:\n",
    "        print(f\"Found object: {obj['Key']}\")\n",
    "\n",
    "# Read an object from the bucket\n",
    "object_key = 'Details.csv'  # Specify the object key\n",
    "response = s3.get_object(Bucket=bucket_name, Key=object_key)\n",
    "data = response['Body'].read()  # Get the object content as bytes\n",
    "\n",
    "# Print or process the data\n",
    "print(data.decode('utf-8'))  # Decode as per your data's encoding\n"
   ]
  },
  {
   "cell_type": "code",
   "execution_count": null,
   "id": "3288e3ac-e9ce-41f0-86b6-85a17ea457b6",
   "metadata": {},
   "outputs": [],
   "source": []
  },
  {
   "cell_type": "code",
   "execution_count": null,
   "id": "46949bb1-3343-458a-9880-f8bddac22811",
   "metadata": {},
   "outputs": [],
   "source": []
  }
 ],
 "metadata": {
  "kernelspec": {
   "display_name": "Python 3 (ipykernel)",
   "language": "python",
   "name": "python3"
  },
  "language_info": {
   "codemirror_mode": {
    "name": "ipython",
    "version": 3
   },
   "file_extension": ".py",
   "mimetype": "text/x-python",
   "name": "python",
   "nbconvert_exporter": "python",
   "pygments_lexer": "ipython3",
   "version": "3.12.2"
  }
 },
 "nbformat": 4,
 "nbformat_minor": 5
}